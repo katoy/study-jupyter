{
 "cells": [
  {
   "cell_type": "markdown",
   "metadata": {
    "id": "6a_Al8GlyAh0"
   },
   "source": [
    "See https://qiita.com/OgawaHideyuki/items/725f4ffd93ffb0d30b6c"
   ]
  },
  {
   "cell_type": "code",
   "execution_count": null,
   "metadata": {
    "colab": {
     "base_uri": "https://localhost:8080/"
    },
    "id": "FWm3sw8MxJiN",
    "outputId": "a1f75403-c327-4b01-a2e1-109f10f5f33a"
   },
   "outputs": [],
   "source": [
    "!pip install jupyter_dash\n",
    "!pip install --upgrade plotly"
   ]
  },
  {
   "cell_type": "code",
   "execution_count": null,
   "metadata": {
    "colab": {
     "base_uri": "https://localhost:8080/",
     "height": 349
    },
    "id": "lIDojjD6xVAn",
    "outputId": "19c65131-b505-4c27-8f05-bf78da051bf3"
   },
   "outputs": [],
   "source": [
    "import dash \n",
    "from jupyter_dash import JupyterDash \n",
    "import dash_core_components as dcc \n",
    "import dash_html_components as html \n",
    "import plotly.express as px\n",
    "from dash.dependencies import Input, Output\n",
    "\n",
    "gapminder = px.data.gapminder()\n",
    "gapminder.head()\n"
   ]
  },
  {
   "cell_type": "code",
   "execution_count": null,
   "metadata": {
    "colab": {
     "base_uri": "https://localhost:8080/",
     "height": 542
    },
    "id": "HfG2fVlcxmTq",
    "outputId": "53ff6c17-eef1-444c-f8ba-32a687f4e42d"
   },
   "outputs": [],
   "source": [
    "jp_gapminder = gapminder[gapminder[\"country\"] == \"Japan\"] # Japanのデータフレーム作成\n",
    "px.line(jp_gapminder, x='year', y=\"lifeExp\") # グラフ描画"
   ]
  },
  {
   "cell_type": "code",
   "execution_count": null,
   "metadata": {
    "colab": {
     "base_uri": "https://localhost:8080/",
     "height": 670
    },
    "id": "DBtjGOmPxrhy",
    "outputId": "d40f57cc-678b-4912-b14a-96bdd4b74a70"
   },
   "outputs": [],
   "source": [
    "# JupyterDashインスタンスの作成\n",
    "app = JupyterDash(__name__)\n",
    "\n",
    "# layout属性にレイアウトを渡す（ドロップダウンとグラフ）\n",
    "app.layout = html.Div([\n",
    "                       dcc.Dropdown(id=\"my_dropdown\",\n",
    "                                    options=[{\"value\": cnt, \"label\": cnt} for cnt in gapminder.country.unique()],\n",
    "                                    value=\"Japan\"\n",
    "                                    ),\n",
    "                       dcc.Graph(id=\"my_graph\")\n",
    "])\n",
    "\n",
    "# ドロップダウンの選択値をグラフに反映するためのコールバック関数\n",
    "@app.callback(Output(\"my_graph\", \"figure\"), Input(\"my_dropdown\", \"value\"))\n",
    "def update_graph(selected_country):\n",
    "  selected_gapminder = gapminder[gapminder[\"country\"] == selected_country]\n",
    "  return px.line(selected_gapminder, x=\"year\", y=\"lifeExp\")\n",
    "\n",
    "# ノート上で実行\n",
    "app.run_server(mode=\"inline\")"
   ]
  },
  {
   "cell_type": "code",
   "execution_count": null,
   "metadata": {
    "colab": {
     "base_uri": "https://localhost:8080/",
     "height": 670
    },
    "id": "HTDStledxrvU",
    "outputId": "d9d211f8-754c-4999-c500-bf6ae66eed44"
   },
   "outputs": [],
   "source": [
    "app = JupyterDash(__name__)\n",
    "\n",
    "app.layout = html.Div([\n",
    "    dcc.Dropdown(id=\"my_dropdown\",\n",
    "                  options=[{\"value\": cnt, \"label\": cnt} for cnt in gapminder.country.unique()],\n",
    "                  value=[\"Japan\", \"China\", \"Korea, Rep.\"],\n",
    "                  multi=True\n",
    "    ),\n",
    "    dcc.Graph(id=\"my_graph\")\n",
    "])\n",
    "\n",
    "@app.callback(Output(\"my_graph\", \"figure\"), Input(\"my_dropdown\", \"value\"))\n",
    "def update_graph(selected_country):\n",
    "  selected_gapminder = gapminder[gapminder[\"country\"].isin(selected_country)]\n",
    "  return px.line(selected_gapminder, x=\"year\", y=\"lifeExp\", color=\"country\")\n",
    "\n",
    "app.run_server(mode=\"inline\")"
   ]
  },
  {
   "cell_type": "code",
   "execution_count": null,
   "metadata": {
    "colab": {
     "base_uri": "https://localhost:8080/"
    },
    "id": "gOL4WYxcxr4a",
    "outputId": "a0964113-b726-42a0-9784-92d7ab6fb6a2"
   },
   "outputs": [],
   "source": [
    "gapminder[\"country\"].unique()\n"
   ]
  },
  {
   "cell_type": "code",
   "execution_count": null,
   "metadata": {
    "colab": {
     "base_uri": "https://localhost:8080/",
     "height": 542
    },
    "id": "vTQ0N9xf1oCH",
    "outputId": "3954928a-0edb-4fe7-8388-3b5c1e2ee819"
   },
   "outputs": [],
   "source": [
    "gapminder['board'] = 'world' # \"board\"列を追加し、'world'という文字列を追加する\n",
    "px.treemap(gapminder, path=['board', 'year', 'country'], values='pop')"
   ]
  },
  {
   "cell_type": "code",
   "execution_count": null,
   "metadata": {
    "colab": {
     "base_uri": "https://localhost:8080/",
     "height": 670
    },
    "id": "JzTB0R1-1x-T",
    "outputId": "53715081-42c9-43cd-8fef-ffe1b36b4b14"
   },
   "outputs": [],
   "source": [
    "app = JupyterDash(__name__)\n",
    "\n",
    "app.layout = html.Div([\n",
    "                       html.H1(id=\"title\"), # ラジオボタンの選択を表示する\n",
    "                       dcc.RadioItems(\n",
    "                           id=\"my_radio\",\n",
    "                           options=[{\"label\": i, \"value\": i} for i in [\"pop\", \"gdpPercap\"]],\n",
    "                           value = \"pop\"\n",
    "                       ),\n",
    "                       dcc.Dropdown(\n",
    "                           id=\"my_drop\",\n",
    "                           options=[{\"label\": i, \"value\": i} for i in ['board', 'year', 'continent', 'country']],\n",
    "                           value = ['board', 'year', 'continent', 'country'],\n",
    "                           multi=True\n",
    "                       ),\n",
    "                       dcc.Graph(id=\"my_graph\")\n",
    "])\n",
    "\n",
    "@app.callback([Output('title', 'children'),Output('my_graph', \"figure\")], \n",
    "              [Input(\"my_radio\", \"value\"), Input(\"my_drop\", \"value\")])\n",
    "def update_tree(radio_select, drop_select):\n",
    "# ドロップダウンで3つ以上の要素が選択されている場合のみグラフを描画\n",
    "  if len(drop_select) >= 3: \n",
    "    return radio_select, px.treemap(gapminder, path=drop_select, values=radio_select)\n",
    "  else:\n",
    "    return dash.no_update\n",
    "\n",
    "app.run_server(mode=\"inline\")"
   ]
  },
  {
   "cell_type": "code",
   "execution_count": null,
   "metadata": {
    "id": "_tKf_QBi1yKR"
   },
   "outputs": [],
   "source": []
  }
 ],
 "metadata": {
  "colab": {
   "provenance": []
  },
  "kernelspec": {
   "display_name": "Python 3 (ipykernel)",
   "language": "python",
   "name": "python3"
  },
  "language_info": {
   "codemirror_mode": {
    "name": "ipython",
    "version": 3
   },
   "file_extension": ".py",
   "mimetype": "text/x-python",
   "name": "python",
   "nbconvert_exporter": "python",
   "pygments_lexer": "ipython3",
   "version": "3.11.0"
  }
 },
 "nbformat": 4,
 "nbformat_minor": 1
}
